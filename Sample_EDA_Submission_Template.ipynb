{
  "nbformat": 4,
  "nbformat_minor": 0,
  "metadata": {
    "colab": {
      "private_outputs": true,
      "provenance": [],
      "collapsed_sections": [
        "MSa1f5Uengrz",
        "gIfDvo9L0UH2"
      ],
      "include_colab_link": true
    },
    "kernelspec": {
      "name": "python3",
      "display_name": "Python 3"
    },
    "language_info": {
      "name": "python"
    }
  },
  "cells": [
    {
      "cell_type": "markdown",
      "metadata": {
        "id": "view-in-github",
        "colab_type": "text"
      },
      "source": [
        "<a href=\"https://colab.research.google.com/github/nitinpandit2530/python-project/blob/main/Sample_EDA_Submission_Template.ipynb\" target=\"_parent\"><img src=\"https://colab.research.google.com/assets/colab-badge.svg\" alt=\"Open In Colab\"/></a>"
      ]
    },
    {
      "cell_type": "markdown",
      "source": [
        "# **Project Name**    - AirBnb Booking Analysis\n",
        "\n"
      ],
      "metadata": {
        "id": "vncDsAP0Gaoa"
      }
    },
    {
      "cell_type": "markdown",
      "source": [
        "##### **Project Type**    - EDA\n",
        "##### **Contribution**    - Individual\n",
        "\n"
      ],
      "metadata": {
        "id": "beRrZCGUAJYm"
      }
    },
    {
      "cell_type": "markdown",
      "source": [
        "# **Project Summary -**"
      ],
      "metadata": {
        "id": "FJNUwmbgGyua"
      }
    },
    {
      "cell_type": "markdown",
      "source": [
        "The Airbnb NYC 2019 dataset provides valuable insights into the dynamics of short-term rentals across New York City, focusing on boroughs such as Manhattan, Brooklyn, Queens, Bronx, and Staten Island. With nearly 49,000 listings and key details like room type, price, availability, and reviews, this analysis helps understand the behaviors of both hosts and guests on the platform. Data preparation involved cleaning missing values and removing extreme outliers,. Manhattan consistently showed higher price points compared to Brooklyn and Queens, aligning with its premium location. Availability trends revealed that many listings operate on a seasonal or part-time basis, with the average listing available for about 113 days per year. Boroughs did not show major differences in availability, though some neighborhoods within Manhattan displayed more consistent availability patterns. Listings with higher numbers of reviews or consistent monthly reviews typically correlated with greater demand and customer trust, highlighting the importance of maintaining positive guest feedback. From a business perspective, hosts can leverage these insights to set competitive prices aligned with their specific borough and room type. Hosts in Brooklyn and Queens, in particular, could attract guests looking for affordable alternatives to Manhattan by optimizing their pricing and improving guest experiences to increase reviews and visibility. For Airbnb as a platform, the data suggests opportunities for borough-specific marketing and strategies to encourage hosts in less saturated areas, like Queens or Staten Island, where potential growth exists. Moreover, Airbnb could guide hosts through educational resources on pricing optimization, availability management, and service quality to enhance overall platform performance. In conclusion, the analysis of Airbnb NYC 2019 data reveals clear patterns regarding location preferences, room types, pricing, availability, and the importance of customer feedback. These insights offer valuable recommendations for both hosts and the platform itself, supporting improved business decisions, enhanced customer satisfaction, and sustainable growth in the highly competitive short-term rental market of New York City.\n",
        "\n"
      ],
      "metadata": {
        "id": "F6v_1wHtG2nS"
      }
    },
    {
      "cell_type": "markdown",
      "source": [
        "# **Github Link -**"
      ],
      "metadata": {
        "id": "w6K7xa23Elo4"
      }
    },
    {
      "cell_type": "markdown",
      "source": [
        "https://github.com/nitinpandit2530/python-project/blob/main/Sample_EDA_Submission_Template.ipynb"
      ],
      "metadata": {
        "id": "h1o69JH3Eqqn"
      }
    },
    {
      "cell_type": "markdown",
      "source": [
        "# **Problem Statement**\n"
      ],
      "metadata": {
        "id": "yQaldy8SH6Dl"
      }
    },
    {
      "cell_type": "markdown",
      "source": [
        "Airbnb, as a global platform for short-term rentals, has a significant presence in New York City, offering thousands of property listings across different boroughs. However, with such a large volume of data on listings, hosts, prices, availability, and customer interactions, it becomes challenging for hosts, potential investors, and even Airbnb itself to clearly understand market trends and make informed decisions. This project aims to analyze the Airbnb NYC 2019 dataset to uncover valuable insights about listing behaviors, pricing strategies, neighborhood demand, room type preferences, and factors influencing performance such as availability and customer reviews. By leveraging data-driven analysis, the goal is to help stakeholders optimize pricing, improve listing performance, identify profitable areas, and enhance the overall customer experience on the platform.\n",
        "\n"
      ],
      "metadata": {
        "id": "DpeJGUA3kjGy"
      }
    },
    {
      "cell_type": "markdown",
      "source": [
        "#### **Define Your Business Objective?**"
      ],
      "metadata": {
        "id": "PH-0ReGfmX4f"
      }
    },
    {
      "cell_type": "markdown",
      "source": [
        "1. Identify the most popular neighborhoods and boroughs for Airbnb listings in NYC.\n",
        "\n",
        "2. Analyze the distribution of room types and their relationship to price and availability.\n",
        "\n",
        "3. Understand the pricing trends and detect any patterns based on location.\n",
        "\n",
        "4. Explore how factors like number of reviews and availability impact listing performance.\n",
        "\n",
        "5. Provide actionable insights to improve business strategies for hosts and Airbnb."
      ],
      "metadata": {
        "id": "PhDvGCAqmjP1"
      }
    },
    {
      "cell_type": "markdown",
      "source": [
        "# **General Guidelines** : -  "
      ],
      "metadata": {
        "id": "mDgbUHAGgjLW"
      }
    },
    {
      "cell_type": "markdown",
      "source": [
        "1.   Well-structured, formatted, and commented code is required.\n",
        "2.   Exception Handling, Production Grade Code & Deployment Ready Code will be a plus. Those students will be awarded some additional credits.\n",
        "     \n",
        "     The additional credits will have advantages over other students during Star Student selection.\n",
        "       \n",
        "             [ Note: - Deployment Ready Code is defined as, the whole .ipynb notebook should be executable in one go\n",
        "                       without a single error logged. ]\n",
        "\n",
        "3.   Each and every logic should have proper comments.\n",
        "4. You may add as many number of charts you want. Make Sure for each and every chart the following format should be answered.\n",
        "        \n",
        "\n",
        "```\n",
        "# Chart visualization code\n",
        "```\n",
        "            \n",
        "\n",
        "*   Why did you pick the specific chart?\n",
        "*   What is/are the insight(s) found from the chart?\n",
        "* Will the gained insights help creating a positive business impact?\n",
        "Are there any insights that lead to negative growth? Justify with specific reason.\n",
        "\n",
        "5. You have to create at least 20 logical & meaningful charts having important insights.\n",
        "\n",
        "\n",
        "[ Hints : - Do the Vizualization in  a structured way while following \"UBM\" Rule.\n",
        "\n",
        "U - Univariate Analysis,\n",
        "\n",
        "B - Bivariate Analysis (Numerical - Categorical, Numerical - Numerical, Categorical - Categorical)\n",
        "\n",
        "M - Multivariate Analysis\n",
        " ]\n",
        "\n",
        "\n",
        "\n"
      ],
      "metadata": {
        "id": "ZrxVaUj-hHfC"
      }
    },
    {
      "cell_type": "markdown",
      "source": [
        "# ***Let's Begin !***"
      ],
      "metadata": {
        "id": "O_i_v8NEhb9l"
      }
    },
    {
      "cell_type": "markdown",
      "source": [
        "## ***1. Know Your Data***"
      ],
      "metadata": {
        "id": "HhfV-JJviCcP"
      }
    },
    {
      "cell_type": "markdown",
      "source": [
        "### Import Libraries"
      ],
      "metadata": {
        "id": "Y3lxredqlCYt"
      }
    },
    {
      "cell_type": "code",
      "source": [
        "# Import Libraries\n",
        "import pandas as pd\n",
        "import numpy as np\n",
        "import matplotlib.pyplot as plt\n",
        "import seaborn as sns"
      ],
      "metadata": {
        "id": "M8Vqi-pPk-HR"
      },
      "execution_count": null,
      "outputs": []
    },
    {
      "cell_type": "markdown",
      "source": [
        "### Dataset Loading"
      ],
      "metadata": {
        "id": "3RnN4peoiCZX"
      }
    },
    {
      "cell_type": "code",
      "source": [
        "# Load Dataset\n",
        "from google.colab import drive\n",
        "drive.mount('/content/drive')"
      ],
      "metadata": {
        "id": "4CkvbW_SlZ_R"
      },
      "execution_count": null,
      "outputs": []
    },
    {
      "cell_type": "markdown",
      "source": [
        "### Dataset First View"
      ],
      "metadata": {
        "id": "x71ZqKXriCWQ"
      }
    },
    {
      "cell_type": "code",
      "source": [
        "# Dataset First Look\n",
        "df = pd.read_csv('/content/drive/MyDrive/Airbnb NYC 2019.csv')\n",
        "df.head()"
      ],
      "metadata": {
        "id": "LWNFOSvLl09H"
      },
      "execution_count": null,
      "outputs": []
    },
    {
      "cell_type": "markdown",
      "source": [
        "### Dataset Rows & Columns count"
      ],
      "metadata": {
        "id": "7hBIi_osiCS2"
      }
    },
    {
      "cell_type": "code",
      "source": [
        "# Dataset Rows & Columns count\n",
        "df.shape\n"
      ],
      "metadata": {
        "id": "Kllu7SJgmLij"
      },
      "execution_count": null,
      "outputs": []
    },
    {
      "cell_type": "markdown",
      "source": [
        "### Dataset Information"
      ],
      "metadata": {
        "id": "JlHwYmJAmNHm"
      }
    },
    {
      "cell_type": "code",
      "source": [
        "# Dataset Info\n",
        "df.info()"
      ],
      "metadata": {
        "id": "e9hRXRi6meOf"
      },
      "execution_count": null,
      "outputs": []
    },
    {
      "cell_type": "markdown",
      "source": [
        "#### Duplicate Values"
      ],
      "metadata": {
        "id": "35m5QtbWiB9F"
      }
    },
    {
      "cell_type": "code",
      "source": [
        "# Dataset Duplicate Value Count\n",
        "df.duplicated().sum()"
      ],
      "metadata": {
        "id": "1sLdpKYkmox0"
      },
      "execution_count": null,
      "outputs": []
    },
    {
      "cell_type": "markdown",
      "source": [
        "#### Missing Values/Null Values"
      ],
      "metadata": {
        "id": "PoPl-ycgm1ru"
      }
    },
    {
      "cell_type": "code",
      "source": [
        "# Missing Values/Null Values Count\n",
        "df.isnull().sum()"
      ],
      "metadata": {
        "id": "GgHWkxvamxVg"
      },
      "execution_count": null,
      "outputs": []
    },
    {
      "cell_type": "code",
      "source": [
        "# Visualizing the missing values\n",
        "sns.heatmap(df.isnull(), cbar=False)"
      ],
      "metadata": {
        "id": "3q5wnI3om9sJ"
      },
      "execution_count": null,
      "outputs": []
    },
    {
      "cell_type": "markdown",
      "source": [
        "### What did you know about your dataset?"
      ],
      "metadata": {
        "id": "H0kj-8xxnORC"
      }
    },
    {
      "cell_type": "markdown",
      "source": [
        "The Airbnb NYC 2019 dataset is a publicly available dataset, commonly used for data science and machine learning practice, especially for exploratory data analysis (EDA), visualization, and price prediction projects. It provides detailed information on nearly 49,000 Airbnb property listings from across New York City as of 2019."
      ],
      "metadata": {
        "id": "gfoNAAC-nUe_"
      }
    },
    {
      "cell_type": "markdown",
      "source": [
        "## ***2. Understanding Your Variables***"
      ],
      "metadata": {
        "id": "nA9Y7ga8ng1Z"
      }
    },
    {
      "cell_type": "code",
      "source": [
        "# Dataset Columns\n",
        "df.columns"
      ],
      "metadata": {
        "id": "j7xfkqrt5Ag5"
      },
      "execution_count": null,
      "outputs": []
    },
    {
      "cell_type": "code",
      "source": [
        "# Dataset Describe\n",
        "df.describe()"
      ],
      "metadata": {
        "id": "DnOaZdaE5Q5t"
      },
      "execution_count": null,
      "outputs": []
    },
    {
      "cell_type": "markdown",
      "source": [
        "### Variables Description"
      ],
      "metadata": {
        "id": "PBTbrJXOngz2"
      }
    },
    {
      "cell_type": "markdown",
      "source": [
        "| **Variable Name**                     | **Description**                                                        | **Type**    |\n",
        "| ------------------------------------- | ---------------------------------------------------------------------- | ----------- |\n",
        "| **id**                                | Unique identifier for each listing.                                    | Numerical   |\n",
        "| **name**                              | Name/title of the listing given by the host.                           | Categorical |\n",
        "| **host\\_id**                          | Unique identifier for each host.                                       | Numerical   |\n",
        "| **host\\_name**                        | Name of the host who owns the listing.                                 | Categorical |\n",
        "| **neighbourhood\\_group**              | Borough in which the listing is located (e.g., Manhattan, Brooklyn).   | Categorical |\n",
        "| **neighbourhood**                     | Specific neighborhood within the borough.                              | Categorical |\n",
        "| **latitude**                          | Geographical latitude of the listing location.                         | Numerical   |\n",
        "| **longitude**                         | Geographical longitude of the listing location.                        | Numerical   |\n",
        "| **room\\_type**                        | Type of room provided (Entire home/apt, Private room, Shared room).    | Categorical |\n",
        "| **price**                             | Price per night in USD.                                                | Numerical   |\n",
        "| **minimum\\_nights**                   | Minimum number of nights required to book the listing.                 | Numerical   |\n",
        "| **number\\_of\\_reviews**               | Total number of reviews received by the listing.                       | Numerical   |\n",
        "| **last\\_review**                      | Date of the most recent review.                                        | Date        |\n",
        "| **reviews\\_per\\_month**               | Average number of reviews per month.                                   | Numerical   |\n",
        "| **calculated\\_host\\_listings\\_count** | Total number of listings the host has on Airbnb.                       | Numerical   |\n",
        "| **availability\\_365**                 | Number of days in a year the listing is available for booking (0-365). | Numerical   |\n"
      ],
      "metadata": {
        "id": "aJV4KIxSnxay"
      }
    },
    {
      "cell_type": "markdown",
      "source": [
        "### Check Unique Values for each variable."
      ],
      "metadata": {
        "id": "u3PMJOP6ngxN"
      }
    },
    {
      "cell_type": "code",
      "source": [
        "# Check Unique Values for each variable.\n",
        "df.nunique()\n"
      ],
      "metadata": {
        "id": "zms12Yq5n-jE"
      },
      "execution_count": null,
      "outputs": []
    },
    {
      "cell_type": "markdown",
      "source": [
        "## 3. ***Data Wrangling***"
      ],
      "metadata": {
        "id": "dauF4eBmngu3"
      }
    },
    {
      "cell_type": "markdown",
      "source": [
        "### Data Wrangling Code"
      ],
      "metadata": {
        "id": "bKJF3rekwFvQ"
      }
    },
    {
      "cell_type": "code",
      "source": [
        "# Fill missing 'reviews_per_month' with 0 (because no reviews = 0 per month)\n",
        "df['reviews_per_month'] = df['reviews_per_month'].fillna(0)\n",
        "df['last_review'] = df['last_review'].fillna(0)\n",
        "\n",
        "df['reviews_per_month']\n"
      ],
      "metadata": {
        "id": "wk-9a2fpoLcV"
      },
      "execution_count": null,
      "outputs": []
    },
    {
      "cell_type": "code",
      "source": [
        "df['last_review']"
      ],
      "metadata": {
        "id": "WDdgvzJBlySC"
      },
      "execution_count": null,
      "outputs": []
    },
    {
      "cell_type": "code",
      "source": [
        "# Drop rows with missing 'name' or 'host_name'\n",
        "df = df.dropna(subset=['name', 'host_name'])\n",
        "\n",
        "df"
      ],
      "metadata": {
        "id": "G4gxd5SckFuB"
      },
      "execution_count": null,
      "outputs": []
    },
    {
      "cell_type": "code",
      "source": [
        "# Confirm missing values are handled\n",
        "print(df.isnull().sum())"
      ],
      "metadata": {
        "id": "MLLzi_7dk4zQ"
      },
      "execution_count": null,
      "outputs": []
    },
    {
      "cell_type": "code",
      "source": [
        "# Remove listings with price > 500 USD\n",
        "df = df[df['price'] <= 500]\n",
        "(df['price'])"
      ],
      "metadata": {
        "id": "-paLD-REl_ow"
      },
      "execution_count": null,
      "outputs": []
    },
    {
      "cell_type": "code",
      "source": [
        "# Remove outliers in 'minimum_nights' column (keep only listings with minimum_nights <= 365)\n",
        "df = df[df['minimum_nights'] <= 365]\n",
        "(df['minimum_nights'])"
      ],
      "metadata": {
        "id": "54Pi8x_toUuH"
      },
      "execution_count": null,
      "outputs": []
    },
    {
      "cell_type": "code",
      "source": [
        "# Reset the index after removing rows to keep DataFrame clean\n",
        "df = df.reset_index(drop=True)\n",
        "df"
      ],
      "metadata": {
        "id": "sCwWMUKepcJI"
      },
      "execution_count": null,
      "outputs": []
    },
    {
      "cell_type": "code",
      "source": [
        "# Check the updated dataset shape and basic statistics\n",
        "print(df.describe())\n",
        "print(f\"Cleaned dataset shape: {df.shape}\")"
      ],
      "metadata": {
        "id": "RbDP5H7Nqib_"
      },
      "execution_count": null,
      "outputs": []
    },
    {
      "cell_type": "markdown",
      "source": [
        "### What all manipulations have you done and insights you found?"
      ],
      "metadata": {
        "id": "MSa1f5Uengrz"
      }
    },
    {
      "cell_type": "markdown",
      "source": [
        "In this project, several important data manipulations were carried out to make the Airbnb NYC 2019 dataset analysis-ready. Firstly, missing values were addressed by replacing the missing entries in the reviews_per_month column with zero, as listings with no reviews logically receive no reviews per month. The columns name and host_name, which had very few missing values, were cleaned by dropping those rows entirely, as these columns do not impact the core analysis significantly. After handling missing data, outliers were removed to ensure the dataset represented realistic market conditions. Specifically, listings with prices exceeding $500 per night were excluded, as such prices are not reflective of the majority of Airbnb users in NYC. Similarly, listings requiring more than 365 minimum nights were removed, given that such properties do not align with the concept of short-term rentals. After these manipulations, the index of the dataset was reset to maintain a clean structure.\n",
        "\n",
        "Following data cleaning, extensive exploratory data analysis (EDA) was conducted through over 20 different visualizations. These visualizations uncovered several key insights about the NYC Airbnb market. It was found that Manhattan and Brooklyn dominate the Airbnb landscape in terms of the number of listings, while Queens, Bronx, and Staten Island hold significantly fewer. Neighborhoods like Williamsburg, Harlem, and the Upper West Side emerged as hotspots with the highest listing densities. In terms of room type, entire homes and apartments were clearly the most popular and most profitable choice for hosts, whereas private rooms served a smaller market, and shared rooms were extremely rare.\n",
        "\n",
        "From a pricing perspective, most listings fell between $50 and $200 per night, with Manhattan commanding the highest average prices. Queens and Bronx listings offered more affordable options, especially below $100, making them attractive to budget-conscious travelers. Regarding availability, the data showed that many hosts either listed their properties year-round or only for very short, specific periods. Again, Manhattan and Brooklyn had the highest availability throughout the year.\n",
        "\n",
        "The analysis of reviews indicated that most listings received fewer than 50 total reviews, though some high-performing listings in Brooklyn and Manhattan accumulated hundreds. Interestingly, cheaper listings tended to gather more reviews, suggesting that affordability drives higher booking frequency. Host behavior also revealed that while most hosts managed one or two properties, a smaller group of professional hosts controlled multiple listings. Correlation analysis further showed weak relationships between price and other variables, though there was a noticeable link between number of reviews and reviews per month."
      ],
      "metadata": {
        "id": "LbyXE7I1olp8"
      }
    },
    {
      "cell_type": "markdown",
      "source": [
        "## ***4. Data Vizualization, Storytelling & Experimenting with charts : Understand the relationships between variables***"
      ],
      "metadata": {
        "id": "GF8Ens_Soomf"
      }
    },
    {
      "cell_type": "markdown",
      "source": [
        "#### Chart - 1"
      ],
      "metadata": {
        "id": "0wOQAZs5pc--"
      }
    },
    {
      "cell_type": "code",
      "source": [
        "# Chart - 1 visualization code\n",
        "sns.countplot(data=df, x='neighbourhood_group', palette='Set2')\n",
        "plt.title('Number of Listings by Neighbourhood Group')\n",
        "plt.show()"
      ],
      "metadata": {
        "id": "7v_ESjsspbW7"
      },
      "execution_count": null,
      "outputs": []
    },
    {
      "cell_type": "markdown",
      "source": [
        "##### 1. Why did you pick the specific chart?"
      ],
      "metadata": {
        "id": "K5QZ13OEpz2H"
      }
    },
    {
      "cell_type": "markdown",
      "source": [
        "I chose the countplot because it is the simplest and clearest way to visualize the number of listings by neighbourhood group. It effectively shows the frequency of listings in each category, making it easy to compare and quickly identify which boroughs dominate the Airbnb market in NYC."
      ],
      "metadata": {
        "id": "XESiWehPqBRc"
      }
    },
    {
      "cell_type": "markdown",
      "source": [
        "##### 2. What is/are the insight(s) found from the chart?"
      ],
      "metadata": {
        "id": "lQ7QKXXCp7Bj"
      }
    },
    {
      "cell_type": "markdown",
      "source": [
        "Manhattan and Brooklyn clearly dominate the Airbnb market in NYC. These two boroughs together account for the majority of listings. Queens has moderate activity, while the Bronx and Staten Island have relatively fewer listings."
      ],
      "metadata": {
        "id": "C_j1G7yiqdRP"
      }
    },
    {
      "cell_type": "markdown",
      "source": [
        "##### 3. Will the gained insights help creating a positive business impact?\n",
        "Are there any insights that lead to negative growth? Justify with specific reason."
      ],
      "metadata": {
        "id": "448CDAPjqfQr"
      }
    },
    {
      "cell_type": "markdown",
      "source": [
        "Yes, the gained insights will help create a positive business impact. By identifying that Manhattan and Brooklyn dominate the Airbnb market, businesses and hosts can focus their marketing, pricing strategies, and investments in these high-demand areas to maximize revenue. Additionally, recognizing that Queens holds moderate potential can help Airbnb expand its customer base by targeting more budget-conscious travelers there.\n",
        "\n",
        "Yes, there are insights that could point toward potential risks or stagnation. The low number of listings in the Bronx and Staten Island suggests limited demand, low tourist attraction, or regulatory challenges in these areas. Investing resources in these boroughs without demand validation may lead to wasted efforts, lower occupancy, and negative growth for hosts. This insight warns businesses to carefully analyze demand before expanding into less popular locations."
      ],
      "metadata": {
        "id": "3cspy4FjqxJW"
      }
    },
    {
      "cell_type": "markdown",
      "source": [
        "#### Chart - 2"
      ],
      "metadata": {
        "id": "KSlN3yHqYklG"
      }
    },
    {
      "cell_type": "code",
      "source": [
        "# Chart - 2 visualization code\n",
        "top_neighbourhoods = df['neighbourhood'].value_counts().head(10)\n",
        "top_neighbourhoods.plot(kind='barh', color='skyblue')\n",
        "plt.title('Top 10 Neighbourhoods with Most Listings')\n",
        "plt.xlabel('Number of Listings')\n",
        "plt.ylabel('Neighbourhood')\n",
        "plt.show()\n"
      ],
      "metadata": {
        "id": "R4YgtaqtYklH"
      },
      "execution_count": null,
      "outputs": []
    },
    {
      "cell_type": "markdown",
      "source": [
        "##### 1. Why did you pick the specific chart?"
      ],
      "metadata": {
        "id": "t6dVpIINYklI"
      }
    },
    {
      "cell_type": "markdown",
      "source": [
        "I chose the horizontal bar plot because it effectively displays the top 10 neighbourhoods with the most listings in a clear, easy-to-read format. It helps visually compare neighbourhoods side by side, making it simple to identify which areas are most active and important for Airbnb’s business strategy."
      ],
      "metadata": {
        "id": "5aaW0BYyYklI"
      }
    },
    {
      "cell_type": "markdown",
      "source": [
        "##### 2. What is/are the insight(s) found from the chart?"
      ],
      "metadata": {
        "id": "ijmpgYnKYklI"
      }
    },
    {
      "cell_type": "markdown",
      "source": [
        "Neighbourhoods like Williamsburg, Harlem, and the Upper West Side show high listing density, reflecting their popularity among tourists and short-term visitors."
      ],
      "metadata": {
        "id": "PSx9atu2YklI"
      }
    },
    {
      "cell_type": "markdown",
      "source": [
        "##### 3. Will the gained insights help creating a positive business impact?\n",
        "Are there any insights that lead to negative growth? Justify with specific reason."
      ],
      "metadata": {
        "id": "-JiQyfWJYklI"
      }
    },
    {
      "cell_type": "markdown",
      "source": [
        "Yes, these insights will help create a positive business impact. Identifying the top 10 neighbourhoods with the most listings allows Airbnb and hosts to focus their marketing, competitive analysis, and pricing strategies in these high-demand areas. These locations likely have higher customer traffic, better infrastructure, and consistent demand, which can help maximize occupancy and revenue.\n",
        "\n",
        "Yes, there are potential risks of negative growth. Highly saturated neighbourhoods (like Williamsburg or Harlem) might lead to increased competition, causing downward pressure on prices and lower occupancy rates for new hosts. Over-saturation can make it harder for new listings to succeed, leading to slower revenue growth if not managed carefully."
      ],
      "metadata": {
        "id": "BcBbebzrYklV"
      }
    },
    {
      "cell_type": "markdown",
      "source": [
        "#### Chart - 3"
      ],
      "metadata": {
        "id": "EM7whBJCYoAo"
      }
    },
    {
      "cell_type": "code",
      "source": [
        "# Chart - 3 visualization code\n",
        "sns.countplot(data=df, x='room_type', palette='Set3')\n",
        "plt.title('Distribution of Room Types')\n",
        "plt.show()"
      ],
      "metadata": {
        "id": "t6GMdE67YoAp"
      },
      "execution_count": null,
      "outputs": []
    },
    {
      "cell_type": "markdown",
      "source": [
        "##### 1. Why did you pick the specific chart?"
      ],
      "metadata": {
        "id": "fge-S5ZAYoAp"
      }
    },
    {
      "cell_type": "markdown",
      "source": [
        "I chose the countplot because it clearly shows the number of listings in each room type category (Entire home/apt, Private room, Shared room). This chart makes it easy to understand the market share of each room type, helping to analyze customer preferences and potential revenue opportunities."
      ],
      "metadata": {
        "id": "5dBItgRVYoAp"
      }
    },
    {
      "cell_type": "markdown",
      "source": [
        "##### 2. What is/are the insight(s) found from the chart?"
      ],
      "metadata": {
        "id": "85gYPyotYoAp"
      }
    },
    {
      "cell_type": "markdown",
      "source": [
        "Entire home/apartments make up the largest share of listings, showing that most travelers prefer privacy. Private rooms follow, while shared rooms are rare."
      ],
      "metadata": {
        "id": "4jstXR6OYoAp"
      }
    },
    {
      "cell_type": "markdown",
      "source": [
        "##### 3. Will the gained insights help creating a positive business impact?\n",
        "Are there any insights that lead to negative growth? Justify with specific reason."
      ],
      "metadata": {
        "id": "RoGjAbkUYoAp"
      }
    },
    {
      "cell_type": "markdown",
      "source": [
        "Positive Impact: Reveals market preference for entire homes, guiding hosts to choose profitable room types.\n",
        "\n",
        "Negative Insight: Oversupply of entire homes might force lower prices over time due to competition."
      ],
      "metadata": {
        "id": "zfJ8IqMcYoAp"
      }
    },
    {
      "cell_type": "markdown",
      "source": [
        "#### Chart - 4"
      ],
      "metadata": {
        "id": "4Of9eVA-YrdM"
      }
    },
    {
      "cell_type": "code",
      "source": [
        "# Chart - 4 visualization code\n",
        "sns.countplot(data=df, x='neighbourhood_group', hue='room_type', palette='pastel')\n",
        "plt.title('Room Types in Each Neighbourhood Group')\n",
        "plt.show()\n"
      ],
      "metadata": {
        "id": "irlUoxc8YrdO"
      },
      "execution_count": null,
      "outputs": []
    },
    {
      "cell_type": "markdown",
      "source": [
        "##### 1. Why did you pick the specific chart?"
      ],
      "metadata": {
        "id": "iky9q4vBYrdO"
      }
    },
    {
      "cell_type": "markdown",
      "source": [
        "A grouped countplot was selected to visually compare two categorical variables: neighbourhood group and room type. This helps understand how different boroughs cater to different customer needs, revealing trends and gaps in the market that can drive business decisions."
      ],
      "metadata": {
        "id": "aJRCwT6DYrdO"
      }
    },
    {
      "cell_type": "markdown",
      "source": [
        "##### 2. What is/are the insight(s) found from the chart?"
      ],
      "metadata": {
        "id": "F6T5p64dYrdO"
      }
    },
    {
      "cell_type": "markdown",
      "source": [
        "Manhattan listings are heavily dominated by entire homes and apartments. Brooklyn shows a healthy mix of both private rooms and entire homes, whereas Queens has a larger proportion of private rooms."
      ],
      "metadata": {
        "id": "Xx8WAJvtYrdO"
      }
    },
    {
      "cell_type": "markdown",
      "source": [
        "##### 3. Will the gained insights help creating a positive business impact?\n",
        "Are there any insights that lead to negative growth? Justify with specific reason."
      ],
      "metadata": {
        "id": "y-Ehk30pYrdP"
      }
    },
    {
      "cell_type": "markdown",
      "source": [
        "Positive Impact: Helps tailor room types to borough-specific demand, improving occupancy and revenue.\n",
        "\n",
        "Negative Insight: Misalignment (e.g., too many shared rooms in low-demand areas) could cause stagnation."
      ],
      "metadata": {
        "id": "jLNxxz7MYrdP"
      }
    },
    {
      "cell_type": "markdown",
      "source": [
        "#### Chart - 5"
      ],
      "metadata": {
        "id": "bamQiAODYuh1"
      }
    },
    {
      "cell_type": "code",
      "source": [
        "# Chart - 5 visualization code\n",
        "sns.histplot(df['price'], bins=50, kde=True, color='purple')\n",
        "plt.title('Distribution of Airbnb Prices')\n",
        "plt.xlabel('Price (USD per night)')\n",
        "plt.show()\n"
      ],
      "metadata": {
        "id": "TIJwrbroYuh3"
      },
      "execution_count": null,
      "outputs": []
    },
    {
      "cell_type": "markdown",
      "source": [
        "##### 1. Why did you pick the specific chart?"
      ],
      "metadata": {
        "id": "QHF8YVU7Yuh3"
      }
    },
    {
      "cell_type": "markdown",
      "source": [
        "The histogram is perfect for showing the frequency distribution of price ranges. It provides a clear picture of common price points and helps detect anomalies or pricing trends, guiding hosts and Airbnb to align offerings with typical customer expectations."
      ],
      "metadata": {
        "id": "dcxuIMRPYuh3"
      }
    },
    {
      "cell_type": "markdown",
      "source": [
        "##### 2. What is/are the insight(s) found from the chart?"
      ],
      "metadata": {
        "id": "GwzvFGzlYuh3"
      }
    },
    {
      "cell_type": "markdown",
      "source": [
        "Most listings fall within the $50 to $200 range. Very high prices (approaching the $500 threshold) are rare, suggesting a competitive pricing landscape for short-term stays."
      ],
      "metadata": {
        "id": "uyqkiB8YYuh3"
      }
    },
    {
      "cell_type": "markdown",
      "source": [
        "##### 3. Will the gained insights help creating a positive business impact?\n",
        "Are there any insights that lead to negative growth? Justify with specific reason."
      ],
      "metadata": {
        "id": "qYpmQ266Yuh3"
      }
    },
    {
      "cell_type": "markdown",
      "source": [
        "Positive Impact: Provides pricing benchmarks; helps hosts price competitively.\n",
        "\n",
        "Negative Insight: Underpricing by competitors can lead to a price war, reducing profitability."
      ],
      "metadata": {
        "id": "_WtzZ_hCYuh4"
      }
    },
    {
      "cell_type": "markdown",
      "source": [
        "#### Chart - 6"
      ],
      "metadata": {
        "id": "OH-pJp9IphqM"
      }
    },
    {
      "cell_type": "code",
      "source": [
        "# Chart - 6 visualization code\n",
        "sns.boxplot(data=df, x='neighbourhood_group', y='price', palette='coolwarm')\n",
        "plt.title('Price Distribution by Neighbourhood Group')\n",
        "plt.show()\n"
      ],
      "metadata": {
        "id": "kuRf4wtuphqN"
      },
      "execution_count": null,
      "outputs": []
    },
    {
      "cell_type": "markdown",
      "source": [
        "##### 1. Why did you pick the specific chart?"
      ],
      "metadata": {
        "id": "bbFf2-_FphqN"
      }
    },
    {
      "cell_type": "markdown",
      "source": [
        "The boxplot effectively shows the spread, median, and outliers for prices across boroughs. It helps identify which areas are most expensive or affordable. This chart supports strategic decisions about pricing, investment, and customer targeting within specific locations."
      ],
      "metadata": {
        "id": "loh7H2nzphqN"
      }
    },
    {
      "cell_type": "markdown",
      "source": [
        "##### 2. What is/are the insight(s) found from the chart?"
      ],
      "metadata": {
        "id": "_ouA3fa0phqN"
      }
    },
    {
      "cell_type": "markdown",
      "source": [
        "Manhattan shows the highest median and variability in price. Brooklyn’s prices are more moderate, and Queens offers the most affordable listings on average.\n",
        "\n"
      ],
      "metadata": {
        "id": "VECbqPI7phqN"
      }
    },
    {
      "cell_type": "markdown",
      "source": [
        "##### 3. Will the gained insights help creating a positive business impact?\n",
        "Are there any insights that lead to negative growth? Justify with specific reason."
      ],
      "metadata": {
        "id": "Seke61FWphqN"
      }
    },
    {
      "cell_type": "markdown",
      "source": [
        "Positive Impact: Highlights borough-specific pricing trends for better strategic planning.\n",
        "\n",
        "Negative Insight: High price volatility in some areas may deter consistent business performance."
      ],
      "metadata": {
        "id": "DW4_bGpfphqN"
      }
    },
    {
      "cell_type": "markdown",
      "source": [
        "#### Chart - 7"
      ],
      "metadata": {
        "id": "PIIx-8_IphqN"
      }
    },
    {
      "cell_type": "code",
      "source": [
        "# Chart - 7 visualization code\n",
        "sns.boxplot(data=df, x='room_type', y='price', palette='Blues')\n",
        "plt.title('Price Distribution by Room Type')\n",
        "plt.show()\n"
      ],
      "metadata": {
        "id": "lqAIGUfyphqO"
      },
      "execution_count": null,
      "outputs": []
    },
    {
      "cell_type": "markdown",
      "source": [
        "##### 1. Why did you pick the specific chart?"
      ],
      "metadata": {
        "id": "t27r6nlMphqO"
      }
    },
    {
      "cell_type": "markdown",
      "source": [
        "I chose the boxplot to highlight price variation within each room type. It clearly shows which room types offer higher earning potential and where price competition is strongest. This visualization aids hosts in selecting competitive but profitable pricing strategies."
      ],
      "metadata": {
        "id": "iv6ro40sphqO"
      }
    },
    {
      "cell_type": "markdown",
      "source": [
        "##### 2. What is/are the insight(s) found from the chart?"
      ],
      "metadata": {
        "id": "r2jJGEOYphqO"
      }
    },
    {
      "cell_type": "markdown",
      "source": [
        "Entire homes and apartments command significantly higher prices than private rooms or shared rooms. Shared rooms are the cheapest but also the least common.\n",
        "\n"
      ],
      "metadata": {
        "id": "Po6ZPi4hphqO"
      }
    },
    {
      "cell_type": "markdown",
      "source": [
        "##### 3. Will the gained insights help creating a positive business impact?\n",
        "Are there any insights that lead to negative growth? Justify with specific reason."
      ],
      "metadata": {
        "id": "b0JNsNcRphqO"
      }
    },
    {
      "cell_type": "markdown",
      "source": [
        "Positive Impact: Shows earning potential by room type, aiding hosts’ investment decisions.\n",
        "\n",
        "Negative Insight: High variability in prices may confuse guests or affect trust in pricing fairness."
      ],
      "metadata": {
        "id": "xvSq8iUTphqO"
      }
    },
    {
      "cell_type": "markdown",
      "source": [
        "#### Chart - 8"
      ],
      "metadata": {
        "id": "BZR9WyysphqO"
      }
    },
    {
      "cell_type": "code",
      "source": [
        "# Chart - 8 visualization code\n",
        "sns.histplot(df['availability_365'], bins=50, kde=False, color='orange')\n",
        "plt.title('Distribution of Availability (Days Per Year)')\n",
        "plt.show()\n"
      ],
      "metadata": {
        "id": "TdPTWpAVphqO"
      },
      "execution_count": null,
      "outputs": []
    },
    {
      "cell_type": "markdown",
      "source": [
        "##### 1. Why did you pick the specific chart?"
      ],
      "metadata": {
        "id": "jj7wYXLtphqO"
      }
    },
    {
      "cell_type": "markdown",
      "source": [
        "The histogram is ideal for showing how availability is distributed across listings. It reveals patterns such as full-year availability versus seasonal availability, helping understand host behavior and identify opportunities to optimize inventory."
      ],
      "metadata": {
        "id": "Ob8u6rCTphqO"
      }
    },
    {
      "cell_type": "markdown",
      "source": [
        "##### 2. What is/are the insight(s) found from the chart?"
      ],
      "metadata": {
        "id": "eZrbJ2SmphqO"
      }
    },
    {
      "cell_type": "markdown",
      "source": [
        "Many listings are either available all year (365 days) or only for short periods (less than 100 days). This indicates a mix of professional hosts and casual/seasonal hosts."
      ],
      "metadata": {
        "id": "mZtgC_hjphqO"
      }
    },
    {
      "cell_type": "markdown",
      "source": [
        "##### 3. Will the gained insights help creating a positive business impact?\n",
        "Are there any insights that lead to negative growth? Justify with specific reason."
      ],
      "metadata": {
        "id": "rFu4xreNphqO"
      }
    },
    {
      "cell_type": "markdown",
      "source": [
        "Positive Impact: Informs Airbnb about year-round inventory stability for reliable bookings.\n",
        "\n",
        "Negative Insight: Listings with extremely limited availability reduce platform reliability for travelers."
      ],
      "metadata": {
        "id": "ey_0qi68phqO"
      }
    },
    {
      "cell_type": "markdown",
      "source": [
        "#### Chart - 9"
      ],
      "metadata": {
        "id": "YJ55k-q6phqO"
      }
    },
    {
      "cell_type": "code",
      "source": [
        "# Chart - 9 visualization code\n",
        "sns.boxplot(data=df, x='neighbourhood_group', y='availability_365', palette='YlOrBr')\n",
        "plt.title('Availability of Listings by Neighbourhood Group')\n",
        "plt.show()\n"
      ],
      "metadata": {
        "id": "B2aS4O1ophqO"
      },
      "execution_count": null,
      "outputs": []
    },
    {
      "cell_type": "markdown",
      "source": [
        "##### 1. Why did you pick the specific chart?"
      ],
      "metadata": {
        "id": "gCFgpxoyphqP"
      }
    },
    {
      "cell_type": "markdown",
      "source": [
        "The boxplot shows availability spread across boroughs, helping identify which areas offer properties year-round versus seasonally. This supports business decisions regarding targeting more reliable areas with continuous availability for better occupancy rates."
      ],
      "metadata": {
        "id": "TVxDimi2phqP"
      }
    },
    {
      "cell_type": "markdown",
      "source": [
        "##### 2. What is/are the insight(s) found from the chart?"
      ],
      "metadata": {
        "id": "OVtJsKN_phqQ"
      }
    },
    {
      "cell_type": "markdown",
      "source": [
        "Availability is relatively balanced across boroughs, but Manhattan has more consistently available listings year-round, likely due to its popularity with tourists."
      ],
      "metadata": {
        "id": "ngGi97qjphqQ"
      }
    },
    {
      "cell_type": "markdown",
      "source": [
        "##### 3. Will the gained insights help creating a positive business impact?\n",
        "Are there any insights that lead to negative growth? Justify with specific reason."
      ],
      "metadata": {
        "id": "lssrdh5qphqQ"
      }
    },
    {
      "cell_type": "markdown",
      "source": [
        "Positive Impact: Identifies boroughs with strong inventory availability, helping operational planning.\n",
        "\n",
        "Negative Insight: Poor availability in certain areas weakens Airbnb’s customer offering."
      ],
      "metadata": {
        "id": "tBpY5ekJphqQ"
      }
    },
    {
      "cell_type": "markdown",
      "source": [
        "#### Chart - 10"
      ],
      "metadata": {
        "id": "U2RJ9gkRphqQ"
      }
    },
    {
      "cell_type": "code",
      "source": [
        "# Chart - 10 visualization code\n",
        "df['room_type'].value_counts().plot.pie(autopct='%1.1f%%', colors=['gold', 'lightblue', 'lightgreen'])\n",
        "plt.title('Percentage Distribution of Room Types')\n",
        "plt.ylabel('')\n",
        "plt.show()\n",
        "\n"
      ],
      "metadata": {
        "id": "GM7a4YP4phqQ"
      },
      "execution_count": null,
      "outputs": []
    },
    {
      "cell_type": "markdown",
      "source": [
        "##### 1. Why did you pick the specific chart?"
      ],
      "metadata": {
        "id": "1M8mcRywphqQ"
      }
    },
    {
      "cell_type": "markdown",
      "source": [
        "The pie chart effectively visualizes the proportion of each room type, giving a quick and intuitive understanding of market share among entire homes, private rooms, and shared rooms. It simplifies complex numbers into a clear percentage-based story."
      ],
      "metadata": {
        "id": "8agQvks0phqQ"
      }
    },
    {
      "cell_type": "markdown",
      "source": [
        "##### 2. What is/are the insight(s) found from the chart?"
      ],
      "metadata": {
        "id": "tgIPom80phqQ"
      }
    },
    {
      "cell_type": "markdown",
      "source": [
        "Visual confirmation that Entire Home/Apt is the preferred accommodation type, making up over half the listings."
      ],
      "metadata": {
        "id": "Qp13pnNzphqQ"
      }
    },
    {
      "cell_type": "markdown",
      "source": [
        "##### 3. Will the gained insights help creating a positive business impact?\n",
        "Are there any insights that lead to negative growth? Justify with specific reason."
      ],
      "metadata": {
        "id": "JMzcOPDDphqR"
      }
    },
    {
      "cell_type": "markdown",
      "source": [
        "Positive Impact: Visualizes market share clearly, guiding Airbnb’s room type strategies.\n",
        "\n",
        "Negative Insight: Over-reliance on entire homes increases regulatory risks in urban markets."
      ],
      "metadata": {
        "id": "R4Ka1PC2phqR"
      }
    },
    {
      "cell_type": "markdown",
      "source": [
        "#### Chart - 11"
      ],
      "metadata": {
        "id": "x-EpHcCOp1ci"
      }
    },
    {
      "cell_type": "code",
      "source": [
        "# Chart - 11 visualization code\n",
        "df['calculated_host_listings_count'].value_counts().head(10).plot(kind='bar', color='coral')\n",
        "plt.title('Top 10 Host Listing Counts')\n",
        "plt.xlabel('Number of Listings per Host')\n",
        "plt.ylabel('Number of Hosts')\n",
        "plt.show()\n",
        "\n",
        "\n"
      ],
      "metadata": {
        "id": "mAQTIvtqp1cj"
      },
      "execution_count": null,
      "outputs": []
    },
    {
      "cell_type": "markdown",
      "source": [
        "##### 1. Why did you pick the specific chart?"
      ],
      "metadata": {
        "id": "X_VqEhTip1ck"
      }
    },
    {
      "cell_type": "markdown",
      "source": [
        "The bar plot shows how many hosts own multiple listings. This highlights the presence of professional hosts in the market, helping Airbnb and analysts understand host behavior and the degree of professionalization within the platform."
      ],
      "metadata": {
        "id": "-vsMzt_np1ck"
      }
    },
    {
      "cell_type": "markdown",
      "source": [
        "##### 2. What is/are the insight(s) found from the chart?"
      ],
      "metadata": {
        "id": "8zGJKyg5p1ck"
      }
    },
    {
      "cell_type": "markdown",
      "source": [
        "A few hosts manage multiple properties, suggesting professional involvement in the Airbnb market. Most hosts have only 1 or 2 listings."
      ],
      "metadata": {
        "id": "ZYdMsrqVp1ck"
      }
    },
    {
      "cell_type": "markdown",
      "source": [
        "##### 3. Will the gained insights help creating a positive business impact?\n",
        "Are there any insights that lead to negative growth? Justify with specific reason."
      ],
      "metadata": {
        "id": "PVzmfK_Ep1ck"
      }
    },
    {
      "cell_type": "markdown",
      "source": [
        "Positive Impact: Identifies key professional hosts for potential partnerships and scaling strategies.\n",
        "\n",
        "Negative Insight: Market dominance by few hosts might limit opportunities for new entrants."
      ],
      "metadata": {
        "id": "druuKYZpp1ck"
      }
    },
    {
      "cell_type": "markdown",
      "source": [
        "#### Chart - 12"
      ],
      "metadata": {
        "id": "n3dbpmDWp1ck"
      }
    },
    {
      "cell_type": "code",
      "source": [
        "# Chart - 12 visualization code\n",
        "sns.scatterplot(data=df, x='number_of_reviews', y='price', alpha=0.5)\n",
        "plt.title('Price vs Number of Reviews')\n",
        "plt.show()\n"
      ],
      "metadata": {
        "id": "bwevp1tKp1ck"
      },
      "execution_count": null,
      "outputs": []
    },
    {
      "cell_type": "markdown",
      "source": [
        "##### 1. Why did you pick the specific chart?"
      ],
      "metadata": {
        "id": "ylSl6qgtp1ck"
      }
    },
    {
      "cell_type": "markdown",
      "source": [
        "The scatterplot was chosen to explore the relationship between price and review count. It visually highlights trends, such as cheaper listings getting more bookings and reviews, supporting insights on demand elasticity and pricing strategy."
      ],
      "metadata": {
        "id": "m2xqNkiQp1ck"
      }
    },
    {
      "cell_type": "markdown",
      "source": [
        "##### 2. What is/are the insight(s) found from the chart?"
      ],
      "metadata": {
        "id": "ZWILFDl5p1ck"
      }
    },
    {
      "cell_type": "markdown",
      "source": [
        "Cheaper listings tend to attract more reviews, likely due to higher booking frequency. Expensive listings attract fewer but possibly longer or more exclusive stays.\n",
        "\n"
      ],
      "metadata": {
        "id": "x-lUsV2mp1ck"
      }
    },
    {
      "cell_type": "markdown",
      "source": [
        "##### 3. Will the gained insights help creating a positive business impact?\n",
        "Are there any insights that lead to negative growth? Justify with specific reason."
      ],
      "metadata": {
        "id": "M7G43BXep1ck"
      }
    },
    {
      "cell_type": "markdown",
      "source": [
        "Positive Impact: Reveals how affordability drives engagement; helps price listings to boost reviews.\n",
        "\n",
        "Negative Insight: Expensive listings attract fewer reviews, which may discourage bookings and limit growth."
      ],
      "metadata": {
        "id": "5wwDJXsLp1cl"
      }
    },
    {
      "cell_type": "markdown",
      "source": [
        "#### Chart - 13"
      ],
      "metadata": {
        "id": "Ag9LCva-p1cl"
      }
    },
    {
      "cell_type": "code",
      "source": [
        "# Chart - 13 visualization code\n",
        "low_price = df[df['price'] < 100]\n",
        "sns.countplot(data=low_price, x='neighbourhood_group', palette='pastel')\n",
        "plt.title('Listings Under $100 by Neighbourhood Group')\n",
        "plt.show()\n"
      ],
      "metadata": {
        "id": "EUfxeq9-p1cl"
      },
      "execution_count": null,
      "outputs": []
    },
    {
      "cell_type": "markdown",
      "source": [
        "##### 1. Why did you pick the specific chart?"
      ],
      "metadata": {
        "id": "E6MkPsBcp1cl"
      }
    },
    {
      "cell_type": "markdown",
      "source": [
        "The countplot clearly highlights which boroughs have more budget-friendly listings under $100. This insight helps target price-sensitive travelers and identify market opportunities in affordable areas like Queens or Bronx."
      ],
      "metadata": {
        "id": "V22bRsFWp1cl"
      }
    },
    {
      "cell_type": "markdown",
      "source": [
        "##### 2. What is/are the insight(s) found from the chart?"
      ],
      "metadata": {
        "id": "2cELzS2fp1cl"
      }
    },
    {
      "cell_type": "markdown",
      "source": [
        "Queens and the Bronx dominate the low-cost segment, making them attractive for budget travelers. Manhattan has fewer listings under $100.\n",
        "\n"
      ],
      "metadata": {
        "id": "ozQPc2_Ip1cl"
      }
    },
    {
      "cell_type": "markdown",
      "source": [
        "##### 3. Will the gained insights help creating a positive business impact?\n",
        "Are there any insights that lead to negative growth? Justify with specific reason."
      ],
      "metadata": {
        "id": "3MPXvC8up1cl"
      }
    },
    {
      "cell_type": "markdown",
      "source": [
        "Positive Impact: Highlights budget-friendly segments for price-conscious traveler strategies.\n",
        "\n",
        "Negative Insight: Lower-priced markets may struggle with profitability for hosts and quality consistency."
      ],
      "metadata": {
        "id": "GL8l1tdLp1cl"
      }
    },
    {
      "cell_type": "markdown",
      "source": [
        "#### Chart - 14 - Correlation Heatmap"
      ],
      "metadata": {
        "id": "NC_X3p0fY2L0"
      }
    },
    {
      "cell_type": "code",
      "source": [
        "# Correlation Heatmap visualization code\n",
        "sns.heatmap(df.corr(numeric_only=True), annot=True, cmap='coolwarm')\n",
        "plt.title('Correlation Heatmap')\n",
        "plt.show()\n"
      ],
      "metadata": {
        "id": "xyC9zolEZNRQ"
      },
      "execution_count": null,
      "outputs": []
    },
    {
      "cell_type": "markdown",
      "source": [
        "##### 1. Why did you pick the specific chart?"
      ],
      "metadata": {
        "id": "UV0SzAkaZNRQ"
      }
    },
    {
      "cell_type": "markdown",
      "source": [
        "The heatmap is the best visual to quickly identify correlations between numerical variables. It helps understand which metrics influence others, supporting data-driven decisions around pricing, availability, and customer engagement."
      ],
      "metadata": {
        "id": "DVPuT8LYZNRQ"
      }
    },
    {
      "cell_type": "markdown",
      "source": [
        "##### 2. What is/are the insight(s) found from the chart?"
      ],
      "metadata": {
        "id": "YPEH6qLeZNRQ"
      }
    },
    {
      "cell_type": "markdown",
      "source": [
        "Price has very weak correlations with most variables. Reviews per month correlate moderately with the number of reviews, which makes sense as more reviews indicate active listings."
      ],
      "metadata": {
        "id": "bfSqtnDqZNRR"
      }
    },
    {
      "cell_type": "markdown",
      "source": [
        "#### Chart - 15 - Pair Plot"
      ],
      "metadata": {
        "id": "q29F0dvdveiT"
      }
    },
    {
      "cell_type": "code",
      "source": [
        "# Pair Plot visualization code\n",
        "sns.pairplot(df)\n",
        "plt.show()"
      ],
      "metadata": {
        "id": "o58-TEIhveiU"
      },
      "execution_count": null,
      "outputs": []
    },
    {
      "cell_type": "markdown",
      "source": [
        "##### 1. Why did you pick the specific chart?"
      ],
      "metadata": {
        "id": "EXh0U9oCveiU"
      }
    },
    {
      "cell_type": "markdown",
      "source": [
        "I chose the pair plot because it visually represents the relationships between multiple numerical variables at once. It helps to quickly identify patterns, correlations, and outliers across key factors like price, availability, and reviews. This chart is ideal for exploring overall trends and spotting hidden insights."
      ],
      "metadata": {
        "id": "eMmPjTByveiU"
      }
    },
    {
      "cell_type": "markdown",
      "source": [
        "##### 2. What is/are the insight(s) found from the chart?"
      ],
      "metadata": {
        "id": "22aHeOlLveiV"
      }
    },
    {
      "cell_type": "markdown",
      "source": [
        "The pair plot shows no strong correlation between price and other variables. Listings with high reviews tend to receive more monthly reviews, reflecting active engagement. Availability clusters at 365 or below 100 days. Manhattan and Brooklyn dominate higher-priced listings, while Queens and Bronx focus on affordable, short-term stays."
      ],
      "metadata": {
        "id": "uPQ8RGwHveiV"
      }
    },
    {
      "cell_type": "markdown",
      "source": [
        "## **5. Solution to Business Objective**"
      ],
      "metadata": {
        "id": "JcMwzZxoAimU"
      }
    },
    {
      "cell_type": "markdown",
      "source": [
        "#### What do you suggest the client to achieve Business Objective ?\n",
        "Explain Briefly."
      ],
      "metadata": {
        "id": "8G2x9gOozGDZ"
      }
    },
    {
      "cell_type": "markdown",
      "source": [
        "To help Airbnb achieve its business objectives, the analysis suggests several key strategies. First, Airbnb should continue to focus on high-demand areas like Manhattan and Brooklyn, as these boroughs dominate both in listings and booking activity. Targeted marketing and optimized pricing strategies in these regions can help hosts remain competitive while maximizing revenue. In contrast, Queens and the Bronx offer potential for growth, especially among budget-conscious travelers. Airbnb can encourage hosts in these areas to improve their listings’ quality and attract more bookings through competitive pricing and targeted promotions. Additionally, since entire home listings generate higher revenue, Airbnb should promote this room type where demand supports higher prices, especially in tourist-heavy neighborhoods. Improving review engagement is also vital, as listings with more reviews tend to attract more bookings; hosts should be encouraged to enhance guest experiences to drive positive feedback. Moreover, Airbnb should advise hosts to maintain year-round availability where possible, particularly in high-demand areas, to increase occupancy rates and income. New hosts can benefit from education on competitive pricing to avoid mistakes like overpricing in low-demand locations or underpricing in saturated markets. Lastly, Airbnb should monitor and manage risks of oversaturation in popular neighborhoods, guiding new hosts toward under-served areas. By leveraging these data-driven insights, Airbnb can refine its marketing and operational strategies to boost bookings, improve host success, and achieve sustainable business growth."
      ],
      "metadata": {
        "id": "pASKb0qOza21"
      }
    },
    {
      "cell_type": "markdown",
      "source": [
        "# **Conclusion**"
      ],
      "metadata": {
        "id": "gCX9965dhzqZ"
      }
    },
    {
      "cell_type": "markdown",
      "source": [
        "The analysis of the Airbnb NYC 2019 dataset provides valuable insights into the dynamics of the short-term rental market in New York City. It clearly highlights that Manhattan and Brooklyn are the core markets, dominating in terms of both listings and higher average pricing. These boroughs continue to attract tourists and generate significant revenue, while Queens and the Bronx present opportunities for growth, particularly for budget travelers. The data shows a strong preference for entire home or apartment rentals, which command higher prices and greater demand compared to private or shared rooms.\n",
        "\n",
        "Furthermore, the analysis reveals that listings with higher review activity tend to achieve better performance and greater customer engagement, reinforcing the importance of maintaining high service quality and availability. However, the presence of market saturation in certain areas suggests that Airbnb and hosts need to strategically manage their listings to avoid excessive competition and price undercutting.\n",
        "\n",
        "Overall, this project concludes that by leveraging these data-driven insights, Airbnb can enhance its platform strategy, help hosts optimize their listings, and expand intelligently into under-served markets. This will ultimately lead to improved booking rates, higher revenue, and a stronger competitive position in the NYC market."
      ],
      "metadata": {
        "id": "Fjb1IsQkh3yE"
      }
    },
    {
      "cell_type": "markdown",
      "source": [
        "### ***Hurrah! You have successfully completed your EDA Capstone Project !!!***"
      ],
      "metadata": {
        "id": "gIfDvo9L0UH2"
      }
    }
  ]
}